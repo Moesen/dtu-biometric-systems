{
 "cells": [
  {
   "cell_type": "code",
   "execution_count": 1,
   "metadata": {},
   "outputs": [],
   "source": [
    "import pickle\n",
    "import sys\n",
    "sys.path.append(\"/home/snooze/Git/dtu-biometric-systems/\")\n",
    "\n",
    "from src.jiyeretal import SecondaryFeatureSet\n",
    "from src.data.scut import ScutDataset\n",
    "from src import REPO_ROOT"
   ]
  },
  {
   "cell_type": "code",
   "execution_count": 2,
   "metadata": {},
   "outputs": [
    {
     "name": "stdout",
     "output_type": "stream",
     "text": [
      "Calculating and saving feature extraction\n",
      "Extracting features\n"
     ]
    },
    {
     "name": "stderr",
     "output_type": "stream",
     "text": [
      "  1%|          | 61/5499 [00:00<00:17, 303.27it/s]/home/snooze/Git/dtu-biometric-systems/src/jiyeretal/facial_features.py:18: RuntimeWarning: divide by zero encountered in divide\n",
      "  self.nose_width_upper_lip_height = d(l[64] - l[68]) / d(l[76] - l[83]) / l[1]\n",
      "/home/snooze/Git/dtu-biometric-systems/src/jiyeretal/facial_features.py:20: RuntimeWarning: divide by zero encountered in divide\n",
      "  self.face_top_eyebrows_eyebrows_nose = d(l[0] - d(l[22] - l[36]) / l[1]) / d(\n",
      "/home/snooze/Git/dtu-biometric-systems/src/jiyeretal/facial_features.py:21: RuntimeWarning: divide by zero encountered in divide\n",
      "  d(l[22] - l[36]) / l[1] - l[66]\n",
      "/home/snooze/Git/dtu-biometric-systems/src/jiyeretal/facial_features.py:20: RuntimeWarning: invalid value encountered in scalar divide\n",
      "  self.face_top_eyebrows_eyebrows_nose = d(l[0] - d(l[22] - l[36]) / l[1]) / d(\n",
      "/home/snooze/Git/dtu-biometric-systems/src/jiyeretal/facial_features.py:23: RuntimeWarning: divide by zero encountered in divide\n",
      "  self.eyebrows_nose_nose_jaw = d(d(l[22] - l[36]) / l[1] - l[66]) / d(\n",
      "/home/snooze/Git/dtu-biometric-systems/src/jiyeretal/facial_features.py:26: RuntimeWarning: divide by zero encountered in divide\n",
      "  self.face_top_eyebrows_nose_jaw = d(l[0] - d(l[22] - l[36]) / l[1]) / d(\n",
      "/home/snooze/Git/dtu-biometric-systems/src/jiyeretal/facial_features.py:60: RuntimeWarning: divide by zero encountered in divide\n",
      "  self.upper_eyebrow = d(l[22] - d(l[22] - l[36]) / l[1]) / d(\n",
      "/home/snooze/Git/dtu-biometric-systems/src/jiyeretal/facial_features.py:61: RuntimeWarning: divide by zero encountered in divide\n",
      "  l[34] - d(l[22] - l[36]) / l[1]\n",
      "/home/snooze/Git/dtu-biometric-systems/src/jiyeretal/facial_features.py:60: RuntimeWarning: invalid value encountered in scalar divide\n",
      "  self.upper_eyebrow = d(l[22] - d(l[22] - l[36]) / l[1]) / d(\n",
      "100%|██████████| 5499/5499 [00:17<00:00, 309.43it/s]\n"
     ]
    }
   ],
   "source": [
    "print(\"Calculating and saving feature extraction\")\n",
    "ds = ScutDataset(\n",
    "    (REPO_ROOT / \"data/SCUT-FBP5500_v2/Images\").resolve(),\n",
    "    (REPO_ROOT / \"data/SCUT-FBP5500_v2/facial_landmark_txt\").resolve(),\n",
    "    (REPO_ROOT / \"data/SCUT-FBP5500_v2/train_test_files/All_labels.txt\"),\n",
    ")\n",
    "feature_set = SecondaryFeatureSet.from_scut_dataset(ds)"
   ]
  },
  {
   "cell_type": "code",
   "execution_count": 3,
   "metadata": {},
   "outputs": [
    {
     "name": "stdout",
     "output_type": "stream",
     "text": [
      "AM1833\n"
     ]
    }
   ],
   "source": [
    "print(feature_set.features[0])"
   ]
  }
 ],
 "metadata": {
  "kernelspec": {
   "display_name": "bio",
   "language": "python",
   "name": "python3"
  },
  "language_info": {
   "codemirror_mode": {
    "name": "ipython",
    "version": 3
   },
   "file_extension": ".py",
   "mimetype": "text/x-python",
   "name": "python",
   "nbconvert_exporter": "python",
   "pygments_lexer": "ipython3",
   "version": "3.10.11"
  },
  "orig_nbformat": 4
 },
 "nbformat": 4,
 "nbformat_minor": 2
}
